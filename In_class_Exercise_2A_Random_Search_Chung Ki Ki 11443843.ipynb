{
  "cells": [
    {
      "cell_type": "markdown",
      "metadata": {
        "id": "AkWkqcF3N3FT"
      },
      "source": [
        "#Introduction\n",
        "\n",
        "The code provided here is exactly the same as in In-class Exercise 1. This time, we are going to implement random search.\n",
        "\n",
        "Note: Again, while MLPs can work for image classification, they do not utilize the spatial structure of images and typically perform poorly on image datasets like CIFAR-10. Convolutional Neural Networks (CNNs) are better suited for these tasks. However, today we will focus on using this example to explore hyperparameter optimization (HPO)."
      ]
    },
    {
      "cell_type": "code",
      "execution_count": 1,
      "metadata": {
        "id": "_LpMncpMN01V"
      },
      "outputs": [],
      "source": [
        "#Chung Ki Ki 11443843\n",
        "import torch\n",
        "import torch.nn as nn\n",
        "import torch.optim as optim\n",
        "from torch.utils.data import DataLoader, random_split\n",
        "from torchvision import datasets, transforms\n",
        "import numpy as np\n",
        "import matplotlib.pyplot as plt\n",
        "\n",
        "#New libraries for search space\n",
        "import random\n",
        "import torch.optim as optim"
      ]
    },
    {
      "cell_type": "code",
      "source": [
        "# Define the search space for rondomly select the parameters\n",
        "search_space = {\n",
        "    \"learning_rate\": [0.001, 0.05, 0.1],\n",
        "    \"hidden_size1\": [256, 512, 1024],\n",
        "    \"hidden_size2\": [128, 256, 512],\n",
        "    \"dropout_prob\": [0.1, 0.2, 0.3],\n",
        "    \"batch_size\": [32, 64, 128]\n",
        "}"
      ],
      "metadata": {
        "id": "3KEkT-ahYyom"
      },
      "execution_count": 2,
      "outputs": []
    },
    {
      "cell_type": "code",
      "source": [
        "# Number of random samples to try and initial for searching\n",
        "num_trials = 3\n",
        "best_loss = float('inf')\n",
        "best_acc =0\n",
        "best_params = None"
      ],
      "metadata": {
        "id": "p1P76accZNOj"
      },
      "execution_count": 3,
      "outputs": []
    },
    {
      "cell_type": "code",
      "execution_count": 4,
      "metadata": {
        "id": "9axIwlLAPdao",
        "colab": {
          "base_uri": "https://localhost:8080/"
        },
        "outputId": "ace00a23-9fc0-45fd-e2f9-6608b68e6613"
      },
      "outputs": [
        {
          "output_type": "stream",
          "name": "stdout",
          "text": [
            "Downloading https://www.cs.toronto.edu/~kriz/cifar-10-python.tar.gz to ./data/cifar-10-python.tar.gz\n"
          ]
        },
        {
          "output_type": "stream",
          "name": "stderr",
          "text": [
            "100%|██████████| 170M/170M [00:13<00:00, 12.9MB/s]\n"
          ]
        },
        {
          "output_type": "stream",
          "name": "stdout",
          "text": [
            "Extracting ./data/cifar-10-python.tar.gz to ./data\n",
            "Files already downloaded and verified\n",
            "Number of training samples: 40000\n",
            "Number of validation samples: 10000\n",
            "Number of test samples: 10000\n"
          ]
        }
      ],
      "source": [
        "# Define transformations: Normalize images and apply basic augmentations\n",
        "transform_train = transforms.Compose([\n",
        "    transforms.RandomHorizontalFlip(),  # Data augmentation\n",
        "    transforms.RandomCrop(32, padding=4),\n",
        "    transforms.ToTensor(),\n",
        "    transforms.Normalize((0.5, 0.5, 0.5), (0.5, 0.5, 0.5))  # Normalize RGB channels\n",
        "])\n",
        "\n",
        "transform_test = transforms.Compose([\n",
        "    transforms.ToTensor(),\n",
        "    transforms.Normalize((0.5, 0.5, 0.5), (0.5, 0.5, 0.5))  # Normalize RGB channels\n",
        "])\n",
        "\n",
        "# Load CIFAR-10 dataset\n",
        "train_dataset = datasets.CIFAR10(root='./data', train=True, transform=transform_train, download=True)\n",
        "test_dataset = datasets.CIFAR10(root='./data', train=False, transform=transform_test, download=True)\n",
        "\n",
        "# Split training dataset into train and validation sets\n",
        "train_size = int(0.8 * len(train_dataset))\n",
        "val_size = len(train_dataset) - train_size\n",
        "train_dataset, val_dataset = random_split(train_dataset, [train_size, val_size])\n",
        "\n",
        "# Create DataLoaders\n",
        "batch_size = 64\n",
        "train_loader = DataLoader(train_dataset, batch_size=batch_size, shuffle=True)\n",
        "val_loader = DataLoader(val_dataset, batch_size=batch_size, shuffle=True)\n",
        "test_loader = DataLoader(test_dataset, batch_size=batch_size)\n",
        "\n",
        "# Check dataset\n",
        "classes = ('airplane', 'automobile', 'bird', 'cat', 'deer', 'dog', 'frog', 'horse', 'ship', 'truck')\n",
        "print(f\"Number of training samples: {len(train_dataset)}\")\n",
        "print(f\"Number of validation samples: {len(val_dataset)}\")\n",
        "print(f\"Number of test samples: {len(test_dataset)}\")"
      ]
    },
    {
      "cell_type": "code",
      "execution_count": 5,
      "metadata": {
        "id": "lR18o9u9PepX"
      },
      "outputs": [],
      "source": [
        "# Define the MLP model with dropout\n",
        "class MLP(nn.Module):\n",
        "    def __init__(self, input_size, hidden_size1, hidden_size2, output_size, dropout_prob=0.5):\n",
        "        super(MLP, self).__init__()\n",
        "        self.fc1 = nn.Linear(input_size, hidden_size1)\n",
        "        self.fc2 = nn.Linear(hidden_size1, hidden_size2)\n",
        "        self.fc3 = nn.Linear(hidden_size2, output_size)\n",
        "        self.relu = nn.ReLU()\n",
        "        self.dropout = nn.Dropout(p=dropout_prob)  # Dropout layer\n",
        "\n",
        "    def forward(self, x):\n",
        "        x = self.relu(self.fc1(x))\n",
        "        x = self.dropout(x)  # Apply dropout after activation\n",
        "        x = self.relu(self.fc2(x))\n",
        "        x = self.dropout(x)\n",
        "        x = self.fc3(x)  # No activation in the output layer\n",
        "        return x\n",
        "\n",
        "# Model parameters\n",
        "input_size = 32 * 32 * 3  # CIFAR-10 images are 32x32x3\n",
        "output_size = 10  # 10 classes in CIFAR-10\n",
        "\n"
      ]
    },
    {
      "cell_type": "code",
      "execution_count": 6,
      "metadata": {
        "id": "WAupPHgRPiHC"
      },
      "outputs": [],
      "source": [
        "def initialize_weights(m):\n",
        "    if isinstance(m, nn.Linear):\n",
        "        nn.init.kaiming_uniform_(m.weight, nonlinearity='relu')  # He Initialization\n",
        "        nn.init.zeros_(m.bias)\n",
        "\n"
      ]
    },
    {
      "cell_type": "code",
      "execution_count": 7,
      "metadata": {
        "id": "bzXL6eu3QNSz",
        "colab": {
          "base_uri": "https://localhost:8080/"
        },
        "outputId": "ea150761-2063-4a86-bbe7-e28b95c997c9"
      },
      "outputs": [
        {
          "output_type": "stream",
          "name": "stdout",
          "text": [
            "Using device: cuda\n"
          ]
        }
      ],
      "source": [
        "# Check if CUDA (GPU) is available\n",
        "device = torch.device(\"cuda\" if torch.cuda.is_available() else \"cpu\")\n",
        "print(f\"Using device: {device}\")\n",
        "\n",
        "# Move the model to GPU (if available)\n"
      ]
    },
    {
      "cell_type": "code",
      "execution_count": 8,
      "metadata": {
        "id": "LDlz3cj_PkDi"
      },
      "outputs": [],
      "source": [
        "# Loss function\n",
        "criterion = nn.CrossEntropyLoss()\n",
        "\n"
      ]
    },
    {
      "cell_type": "code",
      "execution_count": 9,
      "metadata": {
        "id": "T_2Cf3eLPoA1"
      },
      "outputs": [],
      "source": [
        "class EarlyStopping:\n",
        "    def __init__(self, patience=5, delta=0):\n",
        "        self.patience = patience\n",
        "        self.delta = delta\n",
        "        self.best_loss = None\n",
        "        self.counter = 0\n",
        "        self.early_stop = False\n",
        "\n",
        "    def __call__(self, val_loss):\n",
        "        if self.best_loss is None:\n",
        "            self.best_loss = val_loss\n",
        "        elif val_loss > self.best_loss - self.delta:\n",
        "            self.counter += 1\n",
        "            if self.counter >= self.patience:\n",
        "                self.early_stop = True\n",
        "        else:\n",
        "            self.best_loss = val_loss\n",
        "            self.counter = 0"
      ]
    },
    {
      "cell_type": "code",
      "execution_count": 10,
      "metadata": {
        "id": "kJBAJ7V3Pq4o",
        "colab": {
          "base_uri": "https://localhost:8080/"
        },
        "outputId": "3cb213ae-ec55-4378-8fb9-5d0f181733fa"
      },
      "outputs": [
        {
          "output_type": "stream",
          "name": "stdout",
          "text": [
            "Trial 1 Parameters: {'learning_rate': 0.001, 'hidden_size1': 512, 'hidden_size2': 128, 'dropout_prob': 0.3, 'batch_size': 64}\n",
            "Epoch [1/5], Train Loss: 2.0741, Validation Loss: 1.8631\n",
            "Epoch [2/5], Train Loss: 1.9153, Validation Loss: 1.7870\n",
            "Epoch [3/5], Train Loss: 1.8479, Validation Loss: 1.7663\n",
            "Epoch [4/5], Train Loss: 1.8132, Validation Loss: 1.7225\n",
            "Epoch [5/5], Train Loss: 1.7861, Validation Loss: 1.6932\n",
            "Trial 2 Parameters: {'learning_rate': 0.05, 'hidden_size1': 256, 'hidden_size2': 512, 'dropout_prob': 0.1, 'batch_size': 32}\n",
            "Epoch [1/5], Train Loss: 4.7384, Validation Loss: 2.3127\n",
            "Epoch [2/5], Train Loss: 2.3186, Validation Loss: 2.3086\n",
            "Epoch [3/5], Train Loss: 2.3334, Validation Loss: 2.3091\n",
            "Epoch [4/5], Train Loss: 2.3070, Validation Loss: 2.3037\n",
            "Epoch [5/5], Train Loss: 2.3067, Validation Loss: 2.3110\n",
            "Early stopping triggered\n",
            "Trial 3 Parameters: {'learning_rate': 0.05, 'hidden_size1': 256, 'hidden_size2': 256, 'dropout_prob': 0.1, 'batch_size': 128}\n",
            "Epoch [1/5], Train Loss: 4.4871, Validation Loss: 2.3108\n",
            "Early stopping triggered\n",
            "Best Parameters: {'learning_rate': 0.001, 'hidden_size1': 512, 'hidden_size2': 128, 'dropout_prob': 0.3, 'batch_size': 64}, Best Validatiion Accuracy: 0.3845, Best Validation Loss: 1.6932,\n"
          ]
        }
      ],
      "source": [
        "# Training loop with early stopping\n",
        "num_epochs = 5\n",
        "early_stopping = EarlyStopping(patience=5, delta=0.01)\n",
        "\n",
        "# Traing based on random search\n",
        "for _ in range(num_trials):\n",
        "\n",
        "    # Randomly sample hyperparameters\n",
        "    params = {key: random.choice(values) for key, values in search_space.items()}\n",
        "    # Instantiate model by random search\n",
        "    model = MLP(input_size, params[\"hidden_size1\"], params[\"hidden_size2\"], output_size, params[\"dropout_prob\"])\n",
        "    # Apply weight initialization\n",
        "    model.apply(initialize_weights)\n",
        "\n",
        "    #Call GPU\n",
        "    model = model.to(device)\n",
        "    # Optimizer\n",
        "    optimizer = optim.Adam(model.parameters(), lr=params[\"learning_rate\"])\n",
        "\n",
        "    #Show the detail of trial\n",
        "    print(f\"Trial {_+1} Parameters: {params}\")\n",
        "    for epoch in range(num_epochs):\n",
        "        model.train()\n",
        "        train_loss = 0\n",
        "        for images, labels in train_loader:\n",
        "            # Move data to GPU\n",
        "            images = images.view(-1, 32 * 32 * 3).to(device)  # Flatten images\n",
        "            labels = labels.to(device)\n",
        "\n",
        "            # Forward pass\n",
        "            outputs = model(images)\n",
        "            loss = criterion(outputs, labels)\n",
        "\n",
        "            # Backward pass\n",
        "            optimizer.zero_grad()\n",
        "            loss.backward()\n",
        "            optimizer.step()\n",
        "            train_loss += loss.item()\n",
        "        correct, total = 0, 0\n",
        "        # Validation step\n",
        "        model.eval()\n",
        "        val_loss = 0\n",
        "        with torch.no_grad():\n",
        "            for images, labels in val_loader:\n",
        "                images = images.view(-1, 32 * 32 * 3).to(device)\n",
        "                labels = labels.to(device)\n",
        "                outputs = model(images)\n",
        "                loss = criterion(outputs, labels)\n",
        "                val_loss += loss.item()\n",
        "                _, predicted = torch.max(outputs, 1)\n",
        "                total += labels.size(0)\n",
        "                correct += (predicted == labels).sum().item()\n",
        "        #Get the accuracy\n",
        "        acc = correct / total\n",
        "        print(f\"Epoch [{epoch+1}/{num_epochs}], Train Loss: {train_loss/len(train_loader):.4f}, Validation Loss: {val_loss/len(val_loader):.4f}\")\n",
        "        # Track best hyperparameters\n",
        "        if acc > best_acc:\n",
        "            best_acc = acc\n",
        "            best_loss = (val_loss/len(val_loader))\n",
        "            best_params = params\n",
        "        # Check early stopping\n",
        "        early_stopping(val_loss / len(val_loader))\n",
        "        if early_stopping.early_stop:\n",
        "            print(\"Early stopping triggered\")\n",
        "\n",
        "            break\n",
        "\n"
      ]
    },
    {
      "cell_type": "code",
      "source": [
        "print(f\"Best Parameters: {best_params}, Best Validatiion Accuracy: {best_acc:.4f}, Best Validation Loss: {best_loss:.4f},\")"
      ],
      "metadata": {
        "id": "xOVlYLaNpimz",
        "outputId": "aafea52e-44b8-4f34-cd91-8f144c38c456",
        "colab": {
          "base_uri": "https://localhost:8080/"
        }
      },
      "execution_count": 11,
      "outputs": [
        {
          "output_type": "stream",
          "name": "stdout",
          "text": [
            "Best Parameters: {'learning_rate': 0.001, 'hidden_size1': 512, 'hidden_size2': 128, 'dropout_prob': 0.3, 'batch_size': 64}, Best Validatiion Accuracy: 0.3845, Best Validation Loss: 1.6932,\n"
          ]
        }
      ]
    }
  ],
  "metadata": {
    "accelerator": "GPU",
    "colab": {
      "gpuType": "T4",
      "provenance": []
    },
    "kernelspec": {
      "display_name": "Python 3",
      "name": "python3"
    },
    "language_info": {
      "name": "python"
    }
  },
  "nbformat": 4,
  "nbformat_minor": 0
}