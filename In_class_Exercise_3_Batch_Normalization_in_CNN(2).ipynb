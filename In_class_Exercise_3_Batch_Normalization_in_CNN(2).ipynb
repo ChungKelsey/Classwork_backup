{
  "cells": [
    {
      "cell_type": "markdown",
      "metadata": {
        "id": "AkWkqcF3N3FT"
      },
      "source": [
        "#CIFAR-10 Classification using CNN with Batch Normalization and Hyperparameter Optimization\n",
        "\n",
        "##In-class Exercise:\n",
        "\n",
        "In the previous lesson, you were introduced to CNN for CIFAR-10 classification. Now it's your turn to gain hands-on experience by extending the provided CNN demo code. Complete the following tasks:\n",
        "\n",
        "##Q1. Adding Batch Normalization:\n",
        "Modify the provided CNN model by adding Batch Normalization (nn.BatchNorm2d)after each convolutional layer (i.e., before the activation function).\n",
        "\n",
        "Train the updated model and show the training/validation loss curves and accuracy metrics.\n",
        "\n",
        "##Q2. Hyperparameter Optimization with Random Search:\n",
        "Implement random search to optimize hyperparmaters of your CNN model. Examples of hyperparameters to consider include:\n",
        "*   Learning rate\n",
        "*   Batch size\n",
        "*   Dropout rate"
      ]
    },
    {
      "cell_type": "markdown",
      "metadata": {
        "id": "5P9FbrihPZ9f"
      },
      "source": [
        "## Step 1: Import Required Libraries\n",
        "We use PyTorch for building the CNN, and torchvision for loading the CIFAR-10 dataset. Matplotlib is used for visualizing the results."
      ]
    },
    {
      "cell_type": "code",
      "execution_count": 4,
      "metadata": {
        "id": "_LpMncpMN01V"
      },
      "outputs": [],
      "source": [
        "import torch\n",
        "import torch.nn as nn\n",
        "import torch.nn.functional as F\n",
        "import torch.optim as optim\n",
        "from torch.utils.data import DataLoader, random_split\n",
        "from torchvision import datasets, transforms\n",
        "import numpy as np\n",
        "import matplotlib.pyplot as plt"
      ]
    },
    {
      "cell_type": "markdown",
      "metadata": {
        "id": "WBm2KMZ3PcF6"
      },
      "source": [
        "## Step 2: Load and Preprocess the CIFAR-10 Dataset\n",
        "The CIFAR-10 dataset contains 60,000 color images of 10 object classes (e.g., airplane, car, bird, etc.). Each image is 32x32 pixels with 3 color channels (RGB).\n",
        "\n",
        "**Steps:**\n",
        "1. Apply data augmentation for training (random crops and horizontal flips).\n",
        "2. Normalize the pixel values to have mean 0 and standard deviation 1.\n",
        "3. Split the dataset into training, validation, and test sets.\n",
        "4. Use `DataLoader` to batch and shuffle the data."
      ]
    },
    {
      "cell_type": "code",
      "execution_count": 5,
      "metadata": {
        "id": "9axIwlLAPdao",
        "colab": {
          "base_uri": "https://localhost:8080/"
        },
        "outputId": "79d0247d-9665-4b5f-e1c5-671728ca7e15"
      },
      "outputs": [
        {
          "output_type": "stream",
          "name": "stdout",
          "text": [
            "Downloading https://www.cs.toronto.edu/~kriz/cifar-10-python.tar.gz to ./data/cifar-10-python.tar.gz\n"
          ]
        },
        {
          "output_type": "stream",
          "name": "stderr",
          "text": [
            "100%|██████████| 170M/170M [00:04<00:00, 34.7MB/s]\n"
          ]
        },
        {
          "output_type": "stream",
          "name": "stdout",
          "text": [
            "Extracting ./data/cifar-10-python.tar.gz to ./data\n",
            "Files already downloaded and verified\n",
            "Number of training samples: 40000\n",
            "Number of validation samples: 10000\n",
            "Number of test samples: 10000\n"
          ]
        }
      ],
      "source": [
        "# Define transformations: Normalize images and apply basic augmentations\n",
        "transform_train = transforms.Compose([\n",
        "    transforms.RandomHorizontalFlip(),  # Data augmentation\n",
        "    transforms.RandomCrop(32, padding=4),\n",
        "    transforms.ToTensor(),\n",
        "    transforms.Normalize((0.5, 0.5, 0.5), (0.5, 0.5, 0.5))  # Normalize RGB channels\n",
        "])\n",
        "\n",
        "transform_test = transforms.Compose([\n",
        "    transforms.ToTensor(),\n",
        "    transforms.Normalize((0.5, 0.5, 0.5), (0.5, 0.5, 0.5))  # Normalize RGB channels\n",
        "])\n",
        "\n",
        "# Load CIFAR-10 dataset\n",
        "train_dataset = datasets.CIFAR10(root='./data', train=True, transform=transform_train, download=True)\n",
        "test_dataset = datasets.CIFAR10(root='./data', train=False, transform=transform_test, download=True)\n",
        "\n",
        "# Split training dataset into train and validation sets\n",
        "train_size = int(0.8 * len(train_dataset))\n",
        "val_size = len(train_dataset) - train_size\n",
        "train_dataset, val_dataset = random_split(train_dataset, [train_size, val_size])\n",
        "\n",
        "# Create DataLoaders\n",
        "batch_size = 64\n",
        "train_loader = DataLoader(train_dataset, batch_size=batch_size, shuffle=True)\n",
        "val_loader = DataLoader(val_dataset, batch_size=batch_size, shuffle=False)\n",
        "test_loader = DataLoader(test_dataset, batch_size=batch_size, shuffle=False)\n",
        "\n",
        "# Check dataset\n",
        "classes = ('airplane', 'automobile', 'bird', 'cat', 'deer', 'dog', 'frog', 'horse', 'ship', 'truck')\n",
        "print(f\"Number of training samples: {len(train_dataset)}\")\n",
        "print(f\"Number of validation samples: {len(val_dataset)}\")\n",
        "print(f\"Number of test samples: {len(test_dataset)}\")"
      ]
    },
    {
      "cell_type": "markdown",
      "metadata": {
        "id": "-Y23bhtmPe6n"
      },
      "source": [
        "## Step 3: Build the CNN Model\n",
        "We define a Convolutional Neural Networks (CNNs) with:\n",
        "- Two Convolutional layers.\n",
        "- ReLU activation for non-linearity.\n",
        "- Dropout to prevent overfitting.\n",
        "- An output Linear layer with 10 neurons (one for each CIFAR-10 class).\n",
        "\n",
        "The input size is $32 \\times 32 \\times 3 = 3072$, as each CIFAR-10 image is 32x32 pixels with 3 RGB color channels."
      ]
    },
    {
      "cell_type": "code",
      "execution_count": 7,
      "metadata": {
        "id": "lR18o9u9PepX",
        "colab": {
          "base_uri": "https://localhost:8080/"
        },
        "outputId": "4732f532-c4eb-446c-b31a-4ea4d84e77e0"
      },
      "outputs": [
        {
          "output_type": "stream",
          "name": "stdout",
          "text": [
            "CNN(\n",
            "  (norm1): BatchNorm2d(200, eps=1e-05, momentum=0.1, affine=True, track_running_stats=True)\n",
            "  (conv1): Conv2d(3, 16, kernel_size=(3, 3), stride=(1, 1), padding=(1, 1))\n",
            "  (pool): MaxPool2d(kernel_size=2, stride=2, padding=0, dilation=1, ceil_mode=False)\n",
            "  (norm2): BatchNorm2d(100, eps=1e-05, momentum=0.1, affine=True, track_running_stats=True)\n",
            "  (conv2): Conv2d(16, 32, kernel_size=(3, 3), stride=(1, 1), padding=(1, 1))\n",
            "  (fc1): Linear(in_features=2048, out_features=128, bias=True)\n",
            "  (fc2): Linear(in_features=128, out_features=10, bias=True)\n",
            "  (dropout): Dropout(p=0.5, inplace=False)\n",
            ")\n"
          ]
        }
      ],
      "source": [
        "# Define the CNN model with dropout\n",
        "class CNN(nn.Module):\n",
        "    def __init__(self, input_channel, output_channel, num_classes):\n",
        "        super(CNN, self).__init__()\n",
        "        #Add 1st Batch normal layer\n",
        "        self.norm1=nn.BatchNorm2d(200)\n",
        "        # The First Convolutional Layer\n",
        "        self.conv1 = nn.Conv2d(in_channels=input_channel, out_channels=16, kernel_size=3, stride=1, padding=1)\n",
        "        # The First Pooling Layer\n",
        "        self.pool = nn.MaxPool2d(kernel_size=2, stride=2)\n",
        "        # Add 2nd Batch Normal layer\n",
        "        self.norm2=nn.BatchNorm2d(100)\n",
        "        # The Second Convolutional Layer\n",
        "        self.conv2 = nn.Conv2d(in_channels=16, out_channels=output_channel, kernel_size=3, stride=1, padding=1)\n",
        "        # Fully Connected Layer\n",
        "        self.fc1 = nn.Linear(in_features=output_channel * 8 * 8, out_features=128)\n",
        "        self.fc2 = nn.Linear(in_features=128, out_features=num_classes)\n",
        "        self.dropout = nn.Dropout(0.5)\n",
        "\n",
        "    def forward(self, x):\n",
        "        # The Shape of Input x : (batch_size, 3, 32, 32)\n",
        "        # 1st Convolution + Pooling\n",
        "        x = self.pool(F.relu(self.conv1(x)))\n",
        "        # 2nd Convolution + Pooling\n",
        "        x = self.pool(F.relu(self.conv2(x)))\n",
        "        # Flatten Data\n",
        "        x = x.flatten(start_dim=1)  # Flatten Data to the Shape: (batch_size, 32*8*8)\n",
        "        # Fully Connected Layer\n",
        "        x = F.relu(self.fc1(x))\n",
        "        x = self.dropout(x)\n",
        "        x = self.fc2(x)\n",
        "        return x\n",
        "\n",
        "# Model parameters\n",
        "input_channel = 3  # Each CIFAR-10 image has dimensions (3, 32, 32) (3 color channels RGB, 32×32 pixels per image).\n",
        "output_channel = 32\n",
        "output_class = 10  # 10 classes in CIFAR-10\n",
        "\n",
        "# Instantiate model\n",
        "model = CNN(input_channel, output_channel, output_class)\n",
        "print(model)"
      ]
    },
    {
      "cell_type": "markdown",
      "metadata": {
        "id": "QjUsAobwQFm_"
      },
      "source": [
        "##Step 4: Enable GPU Acceleration\n",
        "PyTorch automatically detects if CUDA is available. We'll move the model and data to the GPU if a supported GPU exists."
      ]
    },
    {
      "cell_type": "code",
      "execution_count": 9,
      "metadata": {
        "id": "bzXL6eu3QNSz",
        "colab": {
          "base_uri": "https://localhost:8080/"
        },
        "outputId": "9686ed79-572c-4e9c-deae-427b0990844a"
      },
      "outputs": [
        {
          "output_type": "stream",
          "name": "stdout",
          "text": [
            "Using device: cuda\n"
          ]
        }
      ],
      "source": [
        "# Check if CUDA (GPU) is available\n",
        "device = torch.device(\"cuda\" if torch.cuda.is_available() else \"cpu\")\n",
        "print(f\"Using device: {device}\")\n",
        "\n",
        "# Move the model to GPU (if available)\n",
        "model = model.to(device)"
      ]
    },
    {
      "cell_type": "markdown",
      "metadata": {
        "id": "0KdG4GvUPhVQ"
      },
      "source": [
        "## Step 5: Initialize Weights\n",
        "To improve numerical stability, we initialize the weights using **He Initialization**, which is suitable for ReLU activation functions."
      ]
    },
    {
      "cell_type": "code",
      "execution_count": 10,
      "metadata": {
        "id": "WAupPHgRPiHC",
        "colab": {
          "base_uri": "https://localhost:8080/"
        },
        "outputId": "c3b60286-fb55-4867-b765-44e08b27b115"
      },
      "outputs": [
        {
          "output_type": "execute_result",
          "data": {
            "text/plain": [
              "CNN(\n",
              "  (norm1): BatchNorm2d(200, eps=1e-05, momentum=0.1, affine=True, track_running_stats=True)\n",
              "  (conv1): Conv2d(3, 16, kernel_size=(3, 3), stride=(1, 1), padding=(1, 1))\n",
              "  (pool): MaxPool2d(kernel_size=2, stride=2, padding=0, dilation=1, ceil_mode=False)\n",
              "  (norm2): BatchNorm2d(100, eps=1e-05, momentum=0.1, affine=True, track_running_stats=True)\n",
              "  (conv2): Conv2d(16, 32, kernel_size=(3, 3), stride=(1, 1), padding=(1, 1))\n",
              "  (fc1): Linear(in_features=2048, out_features=128, bias=True)\n",
              "  (fc2): Linear(in_features=128, out_features=10, bias=True)\n",
              "  (dropout): Dropout(p=0.5, inplace=False)\n",
              ")"
            ]
          },
          "metadata": {},
          "execution_count": 10
        }
      ],
      "source": [
        "def initialize_weights(m):\n",
        "    if isinstance(m, nn.Conv2d) or isinstance(m, nn.Linear):\n",
        "        nn.init.kaiming_uniform_(m.weight, nonlinearity='relu')  # He Initialization\n",
        "        if m.bias is not None:  # Ensure bias exists before initializing\n",
        "          nn.init.zeros_(m.bias)\n",
        "\n",
        "# Apply weight initialization\n",
        "model.apply(initialize_weights)"
      ]
    },
    {
      "cell_type": "markdown",
      "metadata": {
        "id": "mOMTT4DDPjC3"
      },
      "source": [
        "## Step 6: Define Loss Function and Optimizer\n",
        "- **Loss Function**: Cross-Entropy Loss, which is suitable for multi-class classification problems.\n",
        "- **Optimizer**: Adam optimizer with a learning rate of 0.001. Supplementary Material for Learning Adam Optimizer: https://www.geeksforgeeks.org/adam-optimizer/"
      ]
    },
    {
      "cell_type": "code",
      "execution_count": 11,
      "metadata": {
        "id": "LDlz3cj_PkDi"
      },
      "outputs": [],
      "source": [
        "# Loss function\n",
        "criterion = nn.CrossEntropyLoss()\n",
        "\n",
        "# Optimizer\n",
        "learning_rate = 0.001\n",
        "optimizer = optim.Adam(model.parameters(), lr=learning_rate)"
      ]
    },
    {
      "cell_type": "markdown",
      "metadata": {
        "id": "sJ1YyfAkPmmi"
      },
      "source": [
        "## Step 7: Implement Early Stopping\n",
        "Early stopping halts training when the validation loss stops improving, preventing overfitting."
      ]
    },
    {
      "cell_type": "code",
      "execution_count": 12,
      "metadata": {
        "id": "T_2Cf3eLPoA1"
      },
      "outputs": [],
      "source": [
        "class EarlyStopping:\n",
        "    def __init__(self, patience=5, delta=0):\n",
        "        self.patience = patience\n",
        "        self.delta = delta\n",
        "        self.best_loss = None\n",
        "        self.counter = 0\n",
        "        self.early_stop = False\n",
        "\n",
        "    def __call__(self, val_loss):\n",
        "        if self.best_loss is None:\n",
        "            self.best_loss = val_loss\n",
        "        elif val_loss > self.best_loss - self.delta:\n",
        "            self.counter += 1\n",
        "            if self.counter >= self.patience:\n",
        "                self.early_stop = True\n",
        "        else:\n",
        "            self.best_loss = val_loss\n",
        "            self.counter = 0"
      ]
    },
    {
      "cell_type": "markdown",
      "metadata": {
        "id": "kyYEbVVrPqEr"
      },
      "source": [
        "## Step 8: Train the Model\n",
        "The training loop computes the forward pass, loss, backpropagation, and updates weights using the optimizer. Early stopping is used to terminate training when validation loss stops improving."
      ]
    },
    {
      "cell_type": "code",
      "execution_count": 13,
      "metadata": {
        "id": "kJBAJ7V3Pq4o",
        "colab": {
          "base_uri": "https://localhost:8080/"
        },
        "outputId": "97a1bc6d-1c6f-4732-c2a1-69f0457eebd6"
      },
      "outputs": [
        {
          "output_type": "stream",
          "name": "stdout",
          "text": [
            "Epoch [1/50], Train Loss: 1.9109, Validation Loss: 1.6053\n",
            "Epoch [2/50], Train Loss: 1.6385, Validation Loss: 1.4397\n",
            "Epoch [3/50], Train Loss: 1.5376, Validation Loss: 1.3692\n",
            "Epoch [4/50], Train Loss: 1.4580, Validation Loss: 1.2937\n",
            "Epoch [5/50], Train Loss: 1.4080, Validation Loss: 1.2350\n",
            "Epoch [6/50], Train Loss: 1.3563, Validation Loss: 1.2044\n",
            "Epoch [7/50], Train Loss: 1.3229, Validation Loss: 1.1608\n",
            "Epoch [8/50], Train Loss: 1.2894, Validation Loss: 1.1538\n",
            "Epoch [9/50], Train Loss: 1.2718, Validation Loss: 1.1376\n",
            "Epoch [10/50], Train Loss: 1.2456, Validation Loss: 1.1068\n",
            "Epoch [11/50], Train Loss: 1.2238, Validation Loss: 1.1063\n",
            "Epoch [12/50], Train Loss: 1.2078, Validation Loss: 1.0427\n",
            "Epoch [13/50], Train Loss: 1.1836, Validation Loss: 1.0509\n",
            "Epoch [14/50], Train Loss: 1.1721, Validation Loss: 1.0324\n",
            "Epoch [15/50], Train Loss: 1.1643, Validation Loss: 1.0429\n",
            "Epoch [16/50], Train Loss: 1.1490, Validation Loss: 1.0133\n",
            "Epoch [17/50], Train Loss: 1.1355, Validation Loss: 1.0457\n",
            "Epoch [18/50], Train Loss: 1.1230, Validation Loss: 0.9927\n",
            "Epoch [19/50], Train Loss: 1.1124, Validation Loss: 0.9790\n",
            "Epoch [20/50], Train Loss: 1.1087, Validation Loss: 1.0002\n",
            "Epoch [21/50], Train Loss: 1.0973, Validation Loss: 0.9807\n",
            "Epoch [22/50], Train Loss: 1.0892, Validation Loss: 0.9786\n",
            "Epoch [23/50], Train Loss: 1.0835, Validation Loss: 0.9699\n",
            "Epoch [24/50], Train Loss: 1.0781, Validation Loss: 0.9690\n",
            "Epoch [25/50], Train Loss: 1.0758, Validation Loss: 0.9722\n",
            "Epoch [26/50], Train Loss: 1.0650, Validation Loss: 0.9478\n",
            "Epoch [27/50], Train Loss: 1.0569, Validation Loss: 0.9437\n",
            "Epoch [28/50], Train Loss: 1.0485, Validation Loss: 0.9459\n",
            "Epoch [29/50], Train Loss: 1.0456, Validation Loss: 0.9425\n",
            "Epoch [30/50], Train Loss: 1.0440, Validation Loss: 0.9281\n",
            "Epoch [31/50], Train Loss: 1.0332, Validation Loss: 0.9223\n",
            "Epoch [32/50], Train Loss: 1.0345, Validation Loss: 0.9468\n",
            "Epoch [33/50], Train Loss: 1.0283, Validation Loss: 0.9194\n",
            "Epoch [34/50], Train Loss: 1.0160, Validation Loss: 0.9078\n",
            "Epoch [35/50], Train Loss: 1.0218, Validation Loss: 0.9134\n",
            "Epoch [36/50], Train Loss: 1.0062, Validation Loss: 0.9073\n",
            "Epoch [37/50], Train Loss: 1.0119, Validation Loss: 0.9175\n",
            "Epoch [38/50], Train Loss: 1.0048, Validation Loss: 0.9094\n",
            "Epoch [39/50], Train Loss: 1.0012, Validation Loss: 0.8865\n",
            "Epoch [40/50], Train Loss: 1.0032, Validation Loss: 0.9042\n",
            "Epoch [41/50], Train Loss: 0.9953, Validation Loss: 0.8988\n",
            "Epoch [42/50], Train Loss: 0.9985, Validation Loss: 0.8983\n",
            "Epoch [43/50], Train Loss: 0.9978, Validation Loss: 0.8955\n",
            "Epoch [44/50], Train Loss: 0.9919, Validation Loss: 0.9000\n",
            "Early stopping triggered\n"
          ]
        }
      ],
      "source": [
        "# Training loop with early stopping\n",
        "num_epochs = 50\n",
        "early_stopping = EarlyStopping(patience=5, delta=0.01)\n",
        "\n",
        "for epoch in range(num_epochs):\n",
        "    model.train()\n",
        "    train_loss = 0\n",
        "    for images, labels in train_loader:\n",
        "        # Move data to GPU\n",
        "        images = images.to(device)\n",
        "        labels = labels.to(device)\n",
        "\n",
        "        # Forward pass\n",
        "        outputs = model(images)\n",
        "        loss = criterion(outputs, labels)\n",
        "\n",
        "        # Backward pass\n",
        "        optimizer.zero_grad()\n",
        "        loss.backward()\n",
        "        optimizer.step()\n",
        "\n",
        "        train_loss += loss.item()\n",
        "\n",
        "    # Validation step\n",
        "    model.eval()\n",
        "    val_loss = 0\n",
        "    with torch.no_grad():\n",
        "        for images, labels in val_loader:\n",
        "            images = images.to(device)\n",
        "            labels = labels.to(device)\n",
        "            outputs = model(images)\n",
        "            loss = criterion(outputs, labels)\n",
        "            val_loss += loss.item()\n",
        "\n",
        "    print(f\"Epoch [{epoch+1}/{num_epochs}], Train Loss: {train_loss/len(train_loader):.4f}, Validation Loss: {val_loss/len(val_loader):.4f}\")\n",
        "\n",
        "    # Check early stopping\n",
        "    early_stopping(val_loss / len(val_loader))\n",
        "    if early_stopping.early_stop:\n",
        "        print(\"Early stopping triggered\")\n",
        "        break"
      ]
    },
    {
      "cell_type": "markdown",
      "metadata": {
        "id": "BmbWSUjbPr_f"
      },
      "source": [
        "## Step 9: Evaluate the Model\n",
        "Evaluate the trained model on the test dataset to compute accuracy."
      ]
    },
    {
      "cell_type": "code",
      "execution_count": 14,
      "metadata": {
        "id": "eUG0abkaPteG",
        "colab": {
          "base_uri": "https://localhost:8080/"
        },
        "outputId": "299a3039-9e3b-4256-f073-7add0ed16184"
      },
      "outputs": [
        {
          "output_type": "stream",
          "name": "stdout",
          "text": [
            "Test Accuracy: 71.84%\n"
          ]
        }
      ],
      "source": [
        "model.eval()\n",
        "correct = 0\n",
        "total = 0\n",
        "with torch.no_grad():\n",
        "    for images, labels in test_loader:\n",
        "        images = images.to(device)\n",
        "        labels = labels.to(device)\n",
        "        outputs = model(images)\n",
        "        _, predicted = torch.max(outputs, 1)\n",
        "        total += labels.size(0)\n",
        "        correct += predicted.eq(labels).sum().item()\n",
        "\n",
        "print(f\"Test Accuracy: {100 * correct / total:.2f}%\")"
      ]
    },
    {
      "cell_type": "markdown",
      "metadata": {
        "id": "VCKvKiMVXHt7"
      },
      "source": [
        "Convolutional Neural Networks (CNNs) are designed for processing image data:\n",
        "\n",
        "1. CNNs preserve spatial structure by using convolutional kernels to detect edges, textures, and patterns.\n",
        "2. Even a simple CNN can easily outperform an MLP on CIFAR-10, often achieving 60-80% accuracy without much tuning."
      ]
    }
  ],
  "metadata": {
    "accelerator": "GPU",
    "colab": {
      "gpuType": "T4",
      "provenance": []
    },
    "kernelspec": {
      "display_name": "Python 3",
      "name": "python3"
    },
    "language_info": {
      "codemirror_mode": {
        "name": "ipython",
        "version": 3
      },
      "file_extension": ".py",
      "mimetype": "text/x-python",
      "name": "python",
      "nbconvert_exporter": "python",
      "pygments_lexer": "ipython3",
      "version": "3.9.13"
    }
  },
  "nbformat": 4,
  "nbformat_minor": 0
}