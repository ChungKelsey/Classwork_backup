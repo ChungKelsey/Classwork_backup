{
  "nbformat": 4,
  "nbformat_minor": 0,
  "metadata": {
    "colab": {
      "provenance": [],
      "gpuType": "T4"
    },
    "kernelspec": {
      "name": "python3",
      "display_name": "Python 3"
    },
    "language_info": {
      "name": "python"
    },
    "accelerator": "GPU"
  },
  "cells": [
    {
      "cell_type": "markdown",
      "source": [
        "#CIFAR-10 Classification with MLP: Advanced Techniques\n",
        "This exercise demonstrates how to implement a Multi-Layer Perceptron (MLP) for classifying the CIFAR-10 dataset using PyTorch. It includes advanced concepts such as:\n",
        "- Dropout for regularization.\n",
        "- Early stopping to prevent overfitting.\n",
        "- Proper weight initialization for numerical stability.\n",
        "\n",
        "Note: While MLPs can work for image classification, they do not utilize the spatial structure of images and typically perform poorly on image datasets like CIFAR-10. Convolutional Neural Networks (CNNs) are better suited for these tasks. However, this tutorial focuses on MLPs to highlight their limitations and the techniques that can improve their performance."
      ],
      "metadata": {
        "id": "AkWkqcF3N3FT"
      }
    },
    {
      "cell_type": "markdown",
      "source": [
        "## Step 1: Import Required Libraries\n",
        "We use PyTorch for building the MLP, and torchvision for loading the CIFAR-10 dataset. Matplotlib is used for visualizing the results."
      ],
      "metadata": {
        "id": "5P9FbrihPZ9f"
      }
    },
    {
      "cell_type": "code",
      "execution_count": 1,
      "metadata": {
        "id": "_LpMncpMN01V"
      },
      "outputs": [],
      "source": [
        "import torch\n",
        "import torch.nn as nn\n",
        "import torch.optim as optim\n",
        "from torch.utils.data import DataLoader, random_split\n",
        "from torchvision import datasets, transforms\n",
        "import numpy as np\n",
        "import matplotlib.pyplot as plt"
      ]
    },
    {
      "cell_type": "markdown",
      "source": [
        "## Step 2: Load and Preprocess the CIFAR-10 Dataset\n",
        "The CIFAR-10 dataset contains 60,000 color images of 10 object classes (e.g., airplane, car, bird, etc.). Each image is 32x32 pixels with 3 color channels (RGB).\n",
        "\n",
        "**Steps:**\n",
        "1. Apply data augmentation for training (random crops and horizontal flips).\n",
        "2. Normalize the pixel values to have mean 0 and standard deviation 1.\n",
        "3. Split the dataset into training, validation, and test sets.\n",
        "4. Use `DataLoader` to batch and shuffle the data."
      ],
      "metadata": {
        "id": "WBm2KMZ3PcF6"
      }
    },
    {
      "cell_type": "code",
      "source": [
        "# Define transformations: Normalize images and apply basic augmentations\n",
        "transform_train = transforms.Compose([\n",
        "    transforms.RandomHorizontalFlip(),  # Data augmentation\n",
        "    transforms.RandomCrop(32, padding=4),\n",
        "    transforms.ToTensor(),\n",
        "    transforms.Normalize((0.5, 0.5, 0.5), (0.5, 0.5, 0.5))  # Normalize RGB channels\n",
        "])\n",
        "\n",
        "transform_test = transforms.Compose([\n",
        "    transforms.ToTensor(),\n",
        "    transforms.Normalize((0.5, 0.5, 0.5), (0.5, 0.5, 0.5))  # Normalize RGB channels\n",
        "])\n",
        "\n",
        "# Load CIFAR-10 dataset\n",
        "train_dataset = datasets.CIFAR10(root='./data', train=True, transform=transform_train, download=True)\n",
        "test_dataset = datasets.CIFAR10(root='./data', train=False, transform=transform_test, download=True)\n",
        "\n",
        "# Split training dataset into train and validation sets\n",
        "train_size = int(0.8 * len(train_dataset))\n",
        "val_size = len(train_dataset) - train_size\n",
        "train_dataset, val_dataset = random_split(train_dataset, [train_size, val_size])\n",
        "\n",
        "# Create DataLoaders\n",
        "batch_size = 64\n",
        "train_loader = DataLoader(train_dataset, batch_size=batch_size, shuffle=True)\n",
        "val_loader = DataLoader(val_dataset, batch_size=batch_size, shuffle=True)\n",
        "test_loader = DataLoader(test_dataset, batch_size=batch_size)\n",
        "\n",
        "# Check dataset\n",
        "classes = ('airplane', 'automobile', 'bird', 'cat', 'deer', 'dog', 'frog', 'horse', 'ship', 'truck')\n",
        "print(f\"Number of training samples: {len(train_dataset)}\")\n",
        "print(f\"Number of validation samples: {len(val_dataset)}\")\n",
        "print(f\"Number of test samples: {len(test_dataset)}\")"
      ],
      "metadata": {
        "colab": {
          "base_uri": "https://localhost:8080/"
        },
        "id": "9axIwlLAPdao",
        "outputId": "2be8c740-52c0-4d98-93a2-68ffee5302f7"
      },
      "execution_count": 2,
      "outputs": [
        {
          "output_type": "stream",
          "name": "stdout",
          "text": [
            "Downloading https://www.cs.toronto.edu/~kriz/cifar-10-python.tar.gz to ./data/cifar-10-python.tar.gz\n"
          ]
        },
        {
          "output_type": "stream",
          "name": "stderr",
          "text": [
            "100%|██████████| 170M/170M [00:15<00:00, 11.2MB/s]\n"
          ]
        },
        {
          "output_type": "stream",
          "name": "stdout",
          "text": [
            "Extracting ./data/cifar-10-python.tar.gz to ./data\n",
            "Files already downloaded and verified\n",
            "Number of training samples: 40000\n",
            "Number of validation samples: 10000\n",
            "Number of test samples: 10000\n"
          ]
        }
      ]
    },
    {
      "cell_type": "markdown",
      "source": [
        "## Step 3: Build the MLP Model\n",
        "We define a Multi-Layer Perceptron (MLP) with:\n",
        "- Two hidden layers of sizes 512 and 256.\n",
        "- ReLU activation for non-linearity.\n",
        "- Dropout to prevent overfitting.\n",
        "- An output layer with 10 neurons (one for each class).\n",
        "\n",
        "The input size is $32 \\times 32 \\times 3 = 3072$, as each CIFAR-10 image is 32x32 pixels with 3 color channels."
      ],
      "metadata": {
        "id": "-Y23bhtmPe6n"
      }
    },
    {
      "cell_type": "code",
      "source": [
        "# Define the MLP model with dropout\n",
        "class MLP(nn.Module):\n",
        "    def __init__(self, input_size, hidden_size1, hidden_size2, output_size, dropout_prob=0.5):\n",
        "        super(MLP, self).__init__()\n",
        "        self.fc1 = nn.Linear(input_size, hidden_size1)\n",
        "        self.fc2 = nn.Linear(hidden_size1, hidden_size2)\n",
        "        self.fc3 = nn.Linear(hidden_size2, output_size)\n",
        "        self.relu = nn.ReLU()\n",
        "        self.dropout = nn.Dropout(p=dropout_prob)  # Dropout layer\n",
        "\n",
        "    def forward(self, x):\n",
        "        x = self.relu(self.fc1(x))\n",
        "        x = self.dropout(x)  # Apply dropout after activation\n",
        "        x = self.relu(self.fc2(x))\n",
        "        x = self.dropout(x)\n",
        "        x = self.fc3(x)  # No activation in the output layer\n",
        "        return x\n",
        "\n",
        "# Model parameters\n",
        "input_size = 32 * 32 * 3  # CIFAR-10 images are 32x32x3\n",
        "hidden_size1 = 512\n",
        "hidden_size2 = 256\n",
        "output_size = 10  # 10 classes in CIFAR-10\n",
        "\n",
        "# Instantiate model\n",
        "model = MLP(input_size, hidden_size1, hidden_size2, output_size)\n",
        "print(model)"
      ],
      "metadata": {
        "colab": {
          "base_uri": "https://localhost:8080/"
        },
        "id": "lR18o9u9PepX",
        "outputId": "a2ed3bbe-4f8c-451f-95b2-8d114c9c8a74"
      },
      "execution_count": 3,
      "outputs": [
        {
          "output_type": "stream",
          "name": "stdout",
          "text": [
            "MLP(\n",
            "  (fc1): Linear(in_features=3072, out_features=512, bias=True)\n",
            "  (fc2): Linear(in_features=512, out_features=256, bias=True)\n",
            "  (fc3): Linear(in_features=256, out_features=10, bias=True)\n",
            "  (relu): ReLU()\n",
            "  (dropout): Dropout(p=0.5, inplace=False)\n",
            ")\n"
          ]
        }
      ]
    },
    {
      "cell_type": "markdown",
      "source": [
        "## Step 4: Initialize Weights\n",
        "To improve numerical stability, we initialize the weights using **He Initialization**, which is suitable for ReLU activation functions."
      ],
      "metadata": {
        "id": "0KdG4GvUPhVQ"
      }
    },
    {
      "cell_type": "code",
      "source": [
        "def initialize_weights(m):\n",
        "    if isinstance(m, nn.Linear):\n",
        "        nn.init.kaiming_uniform_(m.weight, nonlinearity='relu')  # He Initialization\n",
        "        nn.init.zeros_(m.bias)\n",
        "\n",
        "# Apply weight initialization\n",
        "model.apply(initialize_weights)"
      ],
      "metadata": {
        "colab": {
          "base_uri": "https://localhost:8080/"
        },
        "id": "WAupPHgRPiHC",
        "outputId": "b1c60d68-8996-404d-89ef-df5c036711fa"
      },
      "execution_count": 4,
      "outputs": [
        {
          "output_type": "execute_result",
          "data": {
            "text/plain": [
              "MLP(\n",
              "  (fc1): Linear(in_features=3072, out_features=512, bias=True)\n",
              "  (fc2): Linear(in_features=512, out_features=256, bias=True)\n",
              "  (fc3): Linear(in_features=256, out_features=10, bias=True)\n",
              "  (relu): ReLU()\n",
              "  (dropout): Dropout(p=0.5, inplace=False)\n",
              ")"
            ]
          },
          "metadata": {},
          "execution_count": 4
        }
      ]
    },
    {
      "cell_type": "markdown",
      "source": [
        "##Step 5: Enable GPU Acceleration\n",
        "PyTorch automatically detects if CUDA is available. We'll move the model and data to the GPU if a supported GPU exists."
      ],
      "metadata": {
        "id": "QjUsAobwQFm_"
      }
    },
    {
      "cell_type": "code",
      "source": [
        "# Check if CUDA (GPU) is available\n",
        "device = torch.device(\"cuda\" if torch.cuda.is_available() else \"cpu\")\n",
        "print(f\"Using device: {device}\")\n",
        "\n",
        "# Move the model to GPU (if available)\n",
        "model = model.to(device)"
      ],
      "metadata": {
        "colab": {
          "base_uri": "https://localhost:8080/"
        },
        "id": "bzXL6eu3QNSz",
        "outputId": "36bc67fd-c7ed-4e6d-d8cf-4dcc72359ec0"
      },
      "execution_count": 5,
      "outputs": [
        {
          "output_type": "stream",
          "name": "stdout",
          "text": [
            "Using device: cuda\n"
          ]
        }
      ]
    },
    {
      "cell_type": "markdown",
      "source": [
        "## Step 6: Define Loss Function and Optimizer\n",
        "- **Loss Function**: Cross-Entropy Loss, which is suitable for multi-class classification problems.\n",
        "- **Optimizer**: Adam optimizer with a learning rate of 0.001. Supplementary Material for Learning Adam Optimizer: https://www.geeksforgeeks.org/adam-optimizer/"
      ],
      "metadata": {
        "id": "mOMTT4DDPjC3"
      }
    },
    {
      "cell_type": "code",
      "source": [
        "# Loss function\n",
        "criterion = nn.CrossEntropyLoss()\n",
        "\n",
        "# Optimizer\n",
        "learning_rate = 0.001\n",
        "optimizer = optim.Adam(model.parameters(), lr=learning_rate)"
      ],
      "metadata": {
        "id": "LDlz3cj_PkDi"
      },
      "execution_count": 6,
      "outputs": []
    },
    {
      "cell_type": "markdown",
      "source": [
        "## Step 7: Implement Early Stopping\n",
        "Early stopping halts training when the validation loss stops improving, preventing overfitting."
      ],
      "metadata": {
        "id": "sJ1YyfAkPmmi"
      }
    },
    {
      "cell_type": "code",
      "source": [
        "class EarlyStopping:\n",
        "    def __init__(self, patience=5, delta=0):\n",
        "        self.patience = patience\n",
        "        self.delta = delta\n",
        "        self.best_loss = None\n",
        "        self.counter = 0\n",
        "        self.early_stop = False\n",
        "\n",
        "    def __call__(self, val_loss):\n",
        "        if self.best_loss is None:\n",
        "            self.best_loss = val_loss\n",
        "        elif val_loss > self.best_loss - self.delta:\n",
        "            self.counter += 1\n",
        "            if self.counter >= self.patience:\n",
        "                self.early_stop = True\n",
        "        else:\n",
        "            self.best_loss = val_loss\n",
        "            self.counter = 0"
      ],
      "metadata": {
        "id": "T_2Cf3eLPoA1"
      },
      "execution_count": 7,
      "outputs": []
    },
    {
      "cell_type": "markdown",
      "source": [
        "## Step 8: Train the Model\n",
        "The training loop computes the forward pass, loss, backpropagation, and updates weights using the optimizer. Early stopping is used to terminate training when validation loss stops improving."
      ],
      "metadata": {
        "id": "kyYEbVVrPqEr"
      }
    },
    {
      "cell_type": "code",
      "source": [
        "# Training loop with early stopping\n",
        "num_epochs = 50\n",
        "early_stopping = EarlyStopping(patience=5, delta=0.01)\n",
        "MLP_train_loss, MLP_val_loss=[], []\n",
        "\n",
        "for epoch in range(num_epochs):\n",
        "    model.train()\n",
        "    train_loss = 0\n",
        "    for images, labels in train_loader:\n",
        "        # Move data to GPU\n",
        "        images = images.view(-1, 32 * 32 * 3).to(device)  # Flatten images\n",
        "        labels = labels.to(device)\n",
        "\n",
        "        # Forward pass\n",
        "        outputs = model(images)\n",
        "        loss = criterion(outputs, labels)\n",
        "\n",
        "        # Backward pass\n",
        "        optimizer.zero_grad()\n",
        "        loss.backward()\n",
        "        optimizer.step()\n",
        "\n",
        "        train_loss += loss.item()\n",
        "\n",
        "    # Validation step\n",
        "    model.eval()\n",
        "    val_loss = 0\n",
        "    with torch.no_grad():\n",
        "        for images, labels in val_loader:\n",
        "            images = images.view(-1, 32 * 32 * 3).to(device)\n",
        "            labels = labels.to(device)\n",
        "            outputs = model(images)\n",
        "            loss = criterion(outputs, labels)\n",
        "            val_loss += loss.item()\n",
        "\n",
        "    print(f\"Epoch [{epoch+1}/{num_epochs}], Train Loss: {train_loss/len(train_loader):.4f}, Validation Loss: {val_loss/len(val_loader):.4f}\")\n",
        "    MLP_train_loss.append(train_loss/len(train_loader))\n",
        "    MLP_val_loss.append(val_loss/len(val_loader))\n",
        "\n",
        "    # Check early stopping\n",
        "    early_stopping(val_loss / len(val_loader))\n",
        "    if early_stopping.early_stop:\n",
        "        print(\"Early stopping triggered\")\n",
        "        break"
      ],
      "metadata": {
        "colab": {
          "base_uri": "https://localhost:8080/"
        },
        "id": "kJBAJ7V3Pq4o",
        "outputId": "8f89f63f-2871-4a0d-c096-995d8f230dfd"
      },
      "execution_count": 8,
      "outputs": [
        {
          "output_type": "stream",
          "name": "stdout",
          "text": [
            "Epoch [1/50], Train Loss: 2.2086, Validation Loss: 1.9506\n",
            "Epoch [2/50], Train Loss: 2.0006, Validation Loss: 1.9189\n",
            "Epoch [3/50], Train Loss: 1.9495, Validation Loss: 1.8657\n",
            "Epoch [4/50], Train Loss: 1.9352, Validation Loss: 1.8564\n",
            "Epoch [5/50], Train Loss: 1.9048, Validation Loss: 1.8251\n",
            "Epoch [6/50], Train Loss: 1.8922, Validation Loss: 1.7915\n",
            "Epoch [7/50], Train Loss: 1.8794, Validation Loss: 1.7992\n",
            "Epoch [8/50], Train Loss: 1.8741, Validation Loss: 1.7835\n",
            "Epoch [9/50], Train Loss: 1.8610, Validation Loss: 1.7613\n",
            "Epoch [10/50], Train Loss: 1.8594, Validation Loss: 1.7712\n",
            "Epoch [11/50], Train Loss: 1.8496, Validation Loss: 1.7644\n",
            "Epoch [12/50], Train Loss: 1.8467, Validation Loss: 1.7432\n",
            "Epoch [13/50], Train Loss: 1.8397, Validation Loss: 1.7395\n",
            "Epoch [14/50], Train Loss: 1.8398, Validation Loss: 1.7280\n",
            "Epoch [15/50], Train Loss: 1.8251, Validation Loss: 1.7219\n",
            "Epoch [16/50], Train Loss: 1.8197, Validation Loss: 1.7216\n",
            "Epoch [17/50], Train Loss: 1.8262, Validation Loss: 1.7142\n",
            "Epoch [18/50], Train Loss: 1.8175, Validation Loss: 1.7065\n",
            "Epoch [19/50], Train Loss: 1.8109, Validation Loss: 1.6980\n",
            "Epoch [20/50], Train Loss: 1.8075, Validation Loss: 1.7107\n",
            "Epoch [21/50], Train Loss: 1.8166, Validation Loss: 1.7108\n",
            "Epoch [22/50], Train Loss: 1.8077, Validation Loss: 1.6809\n",
            "Epoch [23/50], Train Loss: 1.8029, Validation Loss: 1.7054\n",
            "Epoch [24/50], Train Loss: 1.8060, Validation Loss: 1.6865\n",
            "Epoch [25/50], Train Loss: 1.7906, Validation Loss: 1.6779\n",
            "Epoch [26/50], Train Loss: 1.7929, Validation Loss: 1.6896\n",
            "Epoch [27/50], Train Loss: 1.7906, Validation Loss: 1.6881\n",
            "Early stopping triggered\n"
          ]
        }
      ]
    },
    {
      "cell_type": "markdown",
      "source": [
        "## Step 9: Evaluate the Model\n",
        "Evaluate the trained model on the test dataset to compute accuracy."
      ],
      "metadata": {
        "id": "BmbWSUjbPr_f"
      }
    },
    {
      "cell_type": "code",
      "source": [
        "model.eval()\n",
        "correct = 0\n",
        "total = 0\n",
        "with torch.no_grad():\n",
        "    for images, labels in test_loader:\n",
        "        images = images.view(-1, 32 * 32 * 3).to(device)\n",
        "        labels = labels.to(device)\n",
        "        outputs = model(images)\n",
        "        _, predicted = torch.max(outputs, 1)\n",
        "        total += labels.size(0)\n",
        "        correct += (predicted == labels).sum().item()\n",
        "\n",
        "print(f\"Test Accuracy: {100 * correct / total:.2f}%\")"
      ],
      "metadata": {
        "id": "eUG0abkaPteG",
        "colab": {
          "base_uri": "https://localhost:8080/"
        },
        "outputId": "fc186154-4b22-4ece-aeb0-97ca4beeaa8e"
      },
      "execution_count": 9,
      "outputs": [
        {
          "output_type": "stream",
          "name": "stdout",
          "text": [
            "Test Accuracy: 33.01%\n"
          ]
        }
      ]
    },
    {
      "cell_type": "markdown",
      "source": [
        "While MLPs can work, Convolutional Neural Networks (CNNs) are much better suited for image data:\n",
        "\n",
        "1. CNNs preserve spatial structure by using convolutional kernels to detect edges, textures, and patterns.\n",
        "2. Even a simple CNN can easily outperform an MLP on CIFAR-10, often achieving 60-80% accuracy without much tuning.\n",
        "If your goal is to achieve higher accuracy on CIFAR-10, moving from an MLP to a CNN (e.g., a small architecture like LeNet or VGG) is strongly recommended."
      ],
      "metadata": {
        "id": "VCKvKiMVXHt7"
      }
    },
    {
      "cell_type": "markdown",
      "source": [
        "# In-class Exercise:\n",
        "\n",
        "Q1. Batch normalization helps improve model training by normalizing the activations of each layer. Modify the MLP model to include Batch Normalization after each hidden layer. Train the updated model and compare the training/validation loss with the original model. Tutorial: https://pytorch.org/docs/stable/generated/torch.nn.BatchNorm1d.html"
      ],
      "metadata": {
        "id": "le7qzlJFy4Md"
      }
    },
    {
      "cell_type": "code",
      "source": [
        "class MLP_BatchN(nn.Module):\n",
        "    def __init__(self, input_size, hidden_size1, hidden_size2, output_size, dropout_prob=0.5):\n",
        "        super(MLP_BatchN, self).__init__()\n",
        "        self.m = nn.BatchNorm1d(input_size)  # Batch normalization layer\n",
        "        self.fc1 = nn.Linear(input_size, hidden_size1)  # Fully connected layer 1\n",
        "        self.fc2 = nn.Linear(hidden_size1, hidden_size2)  # Fully connected layer 2\n",
        "        self.fc3 = nn.Linear(hidden_size2, output_size)  # Fully connected layer 3\n",
        "        self.relu = nn.ReLU()\n",
        "        self.dropout = nn.Dropout(p=dropout_prob)  # Dropout layer\n",
        "\n",
        "    def forward(self, x):\n",
        "        x = self.m(x)  # Apply batch normalization\n",
        "        x = self.relu(self.fc1(x))  # Activation after first linear layer\n",
        "        x = self.dropout(x)  # Apply dropout after activation\n",
        "        x = self.relu(self.fc2(x))  # Activation after second linear layer\n",
        "        x = self.dropout(x)\n",
        "        x = self.fc3(x)  # Output layer (no activation)\n",
        "        return x\n",
        "\n"
      ],
      "metadata": {
        "id": "lBq1g_vDENYX"
      },
      "execution_count": 10,
      "outputs": []
    },
    {
      "cell_type": "code",
      "source": [
        "# Parameters for CIFAR-10\n",
        "input_size = 32 * 32 * 3  # CIFAR-10 images are 32x32x3\n",
        "hidden_size1 = 512\n",
        "hidden_size2 = 256\n",
        "output_size = 10  # 10 classes in CIFAR-10\n",
        "\n",
        "# Instantiate model\n",
        "model = MLP_BatchN(input_size, hidden_size1, hidden_size2, output_size)\n",
        "print(model)  # This will correctly print the model architecture"
      ],
      "metadata": {
        "colab": {
          "base_uri": "https://localhost:8080/"
        },
        "id": "pyyAOr_0G-iO",
        "outputId": "d5fb5e1a-e858-48fd-a3d7-192c0cf99ef9"
      },
      "execution_count": 11,
      "outputs": [
        {
          "output_type": "stream",
          "name": "stdout",
          "text": [
            "MLP_BatchN(\n",
            "  (m): BatchNorm1d(3072, eps=1e-05, momentum=0.1, affine=True, track_running_stats=True)\n",
            "  (fc1): Linear(in_features=3072, out_features=512, bias=True)\n",
            "  (fc2): Linear(in_features=512, out_features=256, bias=True)\n",
            "  (fc3): Linear(in_features=256, out_features=10, bias=True)\n",
            "  (relu): ReLU()\n",
            "  (dropout): Dropout(p=0.5, inplace=False)\n",
            ")\n"
          ]
        }
      ]
    },
    {
      "cell_type": "code",
      "source": [
        "def initialize_weights(m):\n",
        "    if isinstance(m, nn.Linear):\n",
        "        nn.init.kaiming_uniform_(m.weight, nonlinearity='relu')  # He Initialization\n",
        "        nn.init.zeros_(m.bias)\n",
        "\n",
        "# Apply weight initialization\n",
        "model.apply(initialize_weights)"
      ],
      "metadata": {
        "colab": {
          "base_uri": "https://localhost:8080/"
        },
        "id": "uiyWlv_AHHS2",
        "outputId": "1fd5ec23-c42a-4134-d8a5-ea07dc3ee94f"
      },
      "execution_count": 12,
      "outputs": [
        {
          "output_type": "execute_result",
          "data": {
            "text/plain": [
              "MLP_BatchN(\n",
              "  (m): BatchNorm1d(3072, eps=1e-05, momentum=0.1, affine=True, track_running_stats=True)\n",
              "  (fc1): Linear(in_features=3072, out_features=512, bias=True)\n",
              "  (fc2): Linear(in_features=512, out_features=256, bias=True)\n",
              "  (fc3): Linear(in_features=256, out_features=10, bias=True)\n",
              "  (relu): ReLU()\n",
              "  (dropout): Dropout(p=0.5, inplace=False)\n",
              ")"
            ]
          },
          "metadata": {},
          "execution_count": 12
        }
      ]
    },
    {
      "cell_type": "code",
      "source": [
        "# Check if CUDA (GPU) is available\n",
        "device = torch.device(\"cuda\" if torch.cuda.is_available() else \"cpu\")\n",
        "print(f\"Using device: {device}\")\n",
        "\n",
        "# Move the model to GPU (if available)\n",
        "model = model.to(device)"
      ],
      "metadata": {
        "colab": {
          "base_uri": "https://localhost:8080/"
        },
        "id": "lQBmYGffHK8Z",
        "outputId": "bb4a483a-d3f4-43a7-f0dc-273137c853f6"
      },
      "execution_count": 13,
      "outputs": [
        {
          "output_type": "stream",
          "name": "stdout",
          "text": [
            "Using device: cuda\n"
          ]
        }
      ]
    },
    {
      "cell_type": "code",
      "source": [
        "# Loss function\n",
        "criterion = nn.CrossEntropyLoss()\n",
        "\n",
        "# Optimizer\n",
        "learning_rate = 0.001\n",
        "optimizer = optim.Adam(model.parameters(), lr=learning_rate)"
      ],
      "metadata": {
        "id": "MYo3V00oHPm2"
      },
      "execution_count": 14,
      "outputs": []
    },
    {
      "cell_type": "code",
      "source": [
        "class EarlyStopping:\n",
        "    def __init__(self, patience=5, delta=0):\n",
        "        self.patience = patience\n",
        "        self.delta = delta\n",
        "        self.best_loss = None\n",
        "        self.counter = 0\n",
        "        self.early_stop = False\n",
        "\n",
        "    def __call__(self, val_loss):\n",
        "        if self.best_loss is None:\n",
        "            self.best_loss = val_loss\n",
        "        elif val_loss > self.best_loss - self.delta:\n",
        "            self.counter += 1\n",
        "            if self.counter >= self.patience:\n",
        "                self.early_stop = True\n",
        "        else:\n",
        "            self.best_loss = val_loss\n",
        "            self.counter = 0"
      ],
      "metadata": {
        "id": "L9yO0FX6HSvE"
      },
      "execution_count": 15,
      "outputs": []
    },
    {
      "cell_type": "code",
      "source": [
        "# Training loop with early stopping\n",
        "num_epochs = 50\n",
        "early_stopping = EarlyStopping(patience=5, delta=0.01)\n",
        "b_train_loss, b_val_loss=[], []\n",
        "\n",
        "for epoch in range(num_epochs):\n",
        "    model.train()\n",
        "    train_loss = 0\n",
        "    for images, labels in train_loader:\n",
        "        # Move data to GPU\n",
        "        images = images.view(-1, 32 * 32 * 3).to(device)  # Flatten images\n",
        "        labels = labels.to(device)\n",
        "\n",
        "        # Forward pass\n",
        "        outputs = model(images)\n",
        "        loss = criterion(outputs, labels)\n",
        "\n",
        "        # Backward pass\n",
        "        optimizer.zero_grad()\n",
        "        loss.backward()\n",
        "        optimizer.step()\n",
        "\n",
        "        train_loss += loss.item()\n",
        "\n",
        "    # Validation step\n",
        "    model.eval()\n",
        "    val_loss = 0\n",
        "    with torch.no_grad():\n",
        "        for images, labels in val_loader:\n",
        "            images = images.view(-1, 32 * 32 * 3).to(device)\n",
        "            labels = labels.to(device)\n",
        "            outputs = model(images)\n",
        "            loss = criterion(outputs, labels)\n",
        "            val_loss += loss.item()\n",
        "\n",
        "    print(f\"Epoch [{epoch+1}/{num_epochs}], Train Loss: {train_loss/len(train_loader):.4f}, Validation Loss: {val_loss/len(val_loader):.4f}\")\n",
        "    b_train_loss.append(train_loss/len(train_loader))\n",
        "    b_val_loss.append(val_loss/len(val_loader))\n",
        "\n",
        "    # Check early stopping\n",
        "    early_stopping(val_loss / len(val_loader))\n",
        "    if early_stopping.early_stop:\n",
        "        print(\"Early stopping triggered\")\n",
        "        break"
      ],
      "metadata": {
        "colab": {
          "base_uri": "https://localhost:8080/"
        },
        "id": "rugSPRgAHVtm",
        "outputId": "603f3ab7-d73e-4c24-dbe0-039d1d41af0a"
      },
      "execution_count": 16,
      "outputs": [
        {
          "output_type": "stream",
          "name": "stdout",
          "text": [
            "Epoch [1/50], Train Loss: 2.4017, Validation Loss: 1.9884\n",
            "Epoch [2/50], Train Loss: 2.0541, Validation Loss: 1.9228\n",
            "Epoch [3/50], Train Loss: 2.0120, Validation Loss: 1.8658\n",
            "Epoch [4/50], Train Loss: 1.9829, Validation Loss: 1.8434\n",
            "Epoch [5/50], Train Loss: 1.9617, Validation Loss: 1.8129\n",
            "Epoch [6/50], Train Loss: 1.9456, Validation Loss: 1.7884\n",
            "Epoch [7/50], Train Loss: 1.9248, Validation Loss: 1.7834\n",
            "Epoch [8/50], Train Loss: 1.9091, Validation Loss: 1.7453\n",
            "Epoch [9/50], Train Loss: 1.8895, Validation Loss: 1.7310\n",
            "Epoch [10/50], Train Loss: 1.8830, Validation Loss: 1.7151\n",
            "Epoch [11/50], Train Loss: 1.8694, Validation Loss: 1.6903\n",
            "Epoch [12/50], Train Loss: 1.8566, Validation Loss: 1.6856\n",
            "Epoch [13/50], Train Loss: 1.8439, Validation Loss: 1.6696\n",
            "Epoch [14/50], Train Loss: 1.8377, Validation Loss: 1.6790\n",
            "Epoch [15/50], Train Loss: 1.8225, Validation Loss: 1.6735\n",
            "Epoch [16/50], Train Loss: 1.8136, Validation Loss: 1.6356\n",
            "Epoch [17/50], Train Loss: 1.8075, Validation Loss: 1.6502\n",
            "Epoch [18/50], Train Loss: 1.7971, Validation Loss: 1.6271\n",
            "Epoch [19/50], Train Loss: 1.7931, Validation Loss: 1.6304\n",
            "Epoch [20/50], Train Loss: 1.7818, Validation Loss: 1.6039\n",
            "Epoch [21/50], Train Loss: 1.7807, Validation Loss: 1.6161\n",
            "Epoch [22/50], Train Loss: 1.7770, Validation Loss: 1.5979\n",
            "Epoch [23/50], Train Loss: 1.7678, Validation Loss: 1.6076\n",
            "Epoch [24/50], Train Loss: 1.7591, Validation Loss: 1.6039\n",
            "Epoch [25/50], Train Loss: 1.7548, Validation Loss: 1.5870\n",
            "Epoch [26/50], Train Loss: 1.7490, Validation Loss: 1.5696\n",
            "Epoch [27/50], Train Loss: 1.7495, Validation Loss: 1.5856\n",
            "Epoch [28/50], Train Loss: 1.7397, Validation Loss: 1.5637\n",
            "Epoch [29/50], Train Loss: 1.7416, Validation Loss: 1.5665\n",
            "Epoch [30/50], Train Loss: 1.7358, Validation Loss: 1.5678\n",
            "Epoch [31/50], Train Loss: 1.7272, Validation Loss: 1.5665\n",
            "Early stopping triggered\n"
          ]
        }
      ]
    },
    {
      "cell_type": "code",
      "source": [
        "model.eval()\n",
        "correct = 0\n",
        "total = 0\n",
        "with torch.no_grad():\n",
        "    for images, labels in test_loader:\n",
        "        images = images.view(-1, 32 * 32 * 3).to(device)\n",
        "        labels = labels.to(device)\n",
        "        outputs = model(images)\n",
        "        _, predicted = torch.max(outputs, 1)\n",
        "        total += labels.size(0)\n",
        "        correct += (predicted == labels).sum().item()\n",
        "\n",
        "print(f\"Test Accuracy: {100 * correct / total:.2f}%\")"
      ],
      "metadata": {
        "id": "r4f0C320HYNt",
        "colab": {
          "base_uri": "https://localhost:8080/"
        },
        "outputId": "da21c66f-fca1-4964-ec02-4d8675303e04"
      },
      "execution_count": 17,
      "outputs": [
        {
          "output_type": "stream",
          "name": "stdout",
          "text": [
            "Test Accuracy: 47.44%\n"
          ]
        }
      ]
    },
    {
      "cell_type": "markdown",
      "source": [
        "Q2. Modify the training loop to store the training and validation loss for each epoch. Use Matplotlib to plot the curves for better visualization of the model's performance over epochs."
      ],
      "metadata": {
        "id": "nmBEAuTY02wa"
      }
    },
    {
      "cell_type": "code",
      "source": [
        "print(\"MLP Train Loss\", MLP_train_loss, \"MLP Valid Loss\", MLP_val_loss)\n"
      ],
      "metadata": {
        "colab": {
          "base_uri": "https://localhost:8080/"
        },
        "id": "6sbqT1JeR3Nn",
        "outputId": "969b8237-237c-478c-9f91-053cbf0296f9"
      },
      "execution_count": 18,
      "outputs": [
        {
          "output_type": "stream",
          "name": "stdout",
          "text": [
            "MLP Train Loss [2.208636204338074, 2.0005887060165404, 1.9494824167251588, 1.9351898294448853, 1.9048363010406495, 1.8922373769760132, 1.879388588142395, 1.8741125165939332, 1.860966365623474, 1.8593867057800293, 1.849649312210083, 1.8466962339401245, 1.839718081855774, 1.8397781791687011, 1.8251082733154298, 1.819711312675476, 1.8261933067321778, 1.8174633365631103, 1.8108676977157592, 1.8075003034591675, 1.8165536310195922, 1.80766040725708, 1.8028711835861206, 1.8060425285339357, 1.7905732196807862, 1.7929306623458863, 1.7905792888641356] MLP Valid Loss [1.9505652151290018, 1.9188501736161057, 1.8656702702212486, 1.8563947958551394, 1.8250892891246042, 1.7915398034320515, 1.799246981645086, 1.783533755381396, 1.761312133187701, 1.7712035262660615, 1.7643616093192132, 1.743164329771783, 1.7395443817612473, 1.7280095785286775, 1.721911695352785, 1.7215548784110197, 1.714181956212232, 1.7064788432637596, 1.6979825177769752, 1.710731713635147, 1.7108490360770257, 1.6808945798570183, 1.705410263340944, 1.6864675655486479, 1.6779131866564416, 1.6895943887674125, 1.6881437817956233]\n"
          ]
        }
      ]
    },
    {
      "cell_type": "code",
      "source": [
        "print(\"BNormal \", b_train_loss, \"BNormal\", b_val_loss)"
      ],
      "metadata": {
        "colab": {
          "base_uri": "https://localhost:8080/"
        },
        "id": "guPFqjM5SgOw",
        "outputId": "ac3f2147-efe2-4aff-d54d-aea1b76f2e34"
      },
      "execution_count": 19,
      "outputs": [
        {
          "output_type": "stream",
          "name": "stdout",
          "text": [
            "BNormal  [2.4017478397369385, 2.0540743286132814, 2.011981551361084, 1.9829198398590089, 1.9616971954345703, 1.945552091407776, 1.9248435913085937, 1.9091278091430663, 1.8895163101196288, 1.8830164770126343, 1.8693846303939818, 1.8566204982757568, 1.8439344116210938, 1.8376979173660277, 1.8225128564834594, 1.813600489616394, 1.8075405961990356, 1.7970915399551393, 1.7930807712554933, 1.7818186122894286, 1.7806569307327271, 1.7770027223587037, 1.7678125244140626, 1.759115579032898, 1.7548448987960816, 1.7490168478012085, 1.7495085327148439, 1.739674388885498, 1.741564423561096, 1.7357797506332397, 1.7272327587127685] BNormal [1.9883932733232048, 1.922812253046947, 1.8657813322771886, 1.8434090082812462, 1.8129014293099666, 1.7883825605841959, 1.7834043897640932, 1.7453309016622556, 1.731003367217483, 1.7151254643300535, 1.690346392856282, 1.6855564018723312, 1.6695795636268178, 1.6789685070135032, 1.673502849165801, 1.635592790166284, 1.65018044459592, 1.6271227658933896, 1.6304220006724073, 1.603871056987981, 1.6161113871130974, 1.5979131110914193, 1.6076320455332471, 1.6039066580450458, 1.58697898524582, 1.56964172223571, 1.5855948856681774, 1.563673261624233, 1.5664610300853754, 1.5678242414620271, 1.566473534152766]\n"
          ]
        }
      ]
    },
    {
      "cell_type": "code",
      "source": [
        "plt.figure(figsize=(8, 6))\n",
        "indices = range(len(MLP_train_loss))\n",
        "plt.plot(indices, MLP_train_loss, color='red', linestyle='-', linewidth=2, label =\"MLP train Loss\")\n",
        "indices = range(len(b_train_loss))\n",
        "plt.plot(indices, b_train_loss, color='blue', linestyle='-', linewidth=2, label =\"Batch normal train Loss\")\n",
        "indices = range(len(MLP_val_loss))\n",
        "plt.plot(indices, MLP_val_loss, color='orange', linestyle='-', linewidth=2, label =\"MLP valid Loss\")\n",
        "indices = range(len(b_val_loss))\n",
        "plt.plot(indices, b_val_loss, color='green', linestyle='-', linewidth=2, label =\"Batch normal valid Loss\")\n",
        "plt.xlabel('Epoch', fontsize=18)\n",
        "plt.ylabel('Loss', fontsize=18)\n",
        "plt.title('Prediction Errors', fontsize=18)\n",
        "plt.grid(True)\n",
        "plt.tick_params(axis='both', labelsize=18)\n",
        "plt.legend()\n",
        "plt.show()"
      ],
      "metadata": {
        "colab": {
          "base_uri": "https://localhost:8080/",
          "height": 589
        },
        "id": "Tk_M0oXVV_kv",
        "outputId": "5735e4f3-51aa-489b-8ff0-0f778a51cdac"
      },
      "execution_count": 20,
      "outputs": [
        {
          "output_type": "display_data",
          "data": {
            "text/plain": [
              "<Figure size 800x600 with 1 Axes>"
            ],
            "image/png": "[encoded data removed]"
          },
          "metadata": {}
        }
      ]
    }
  ]
}